{
 "cells": [
  {
   "cell_type": "markdown",
   "id": "87426444",
   "metadata": {},
   "source": [
    "structs and enum in python\n",
    "\n",
    "mutable and immutable objects\n",
    "\n",
    "pass by reference vs value"
   ]
  },
  {
   "cell_type": "code",
   "execution_count": 9,
   "id": "42f013f6",
   "metadata": {},
   "outputs": [
    {
     "name": "stdout",
     "output_type": "stream",
     "text": [
      "2456610787568\n",
      "2456610787568\n"
     ]
    }
   ],
   "source": [
    "a = \"test\"\n",
    "b = \"test\"\n",
    "print(id(a))\n",
    "print(id(b))"
   ]
  },
  {
   "cell_type": "code",
   "execution_count": 6,
   "id": "5a98b3f9",
   "metadata": {},
   "outputs": [
    {
     "name": "stdout",
     "output_type": "stream",
     "text": [
      "2454574631616\n",
      "2454574662720\n"
     ]
    }
   ],
   "source": [
    "a = ['t','e']\n",
    "b = ['t','e']\n",
    "print(id(a))\n",
    "print(id(b))"
   ]
  },
  {
   "cell_type": "code",
   "execution_count": 10,
   "id": "82666108",
   "metadata": {},
   "outputs": [
    {
     "name": "stdout",
     "output_type": "stream",
     "text": [
      "2454574801024\n",
      "2454574563136\n"
     ]
    }
   ],
   "source": [
    "a = tuple(['t','e'])\n",
    "b = tuple(['t','e'])\n",
    "print(id(a))\n",
    "print(id(b))"
   ]
  },
  {
   "cell_type": "code",
   "execution_count": 5,
   "id": "8ad4f16e",
   "metadata": {},
   "outputs": [],
   "source": [
    "import re"
   ]
  },
  {
   "cell_type": "code",
   "execution_count": 21,
   "id": "af4a4ddc",
   "metadata": {},
   "outputs": [
    {
     "name": "stdout",
     "output_type": "stream",
     "text": [
      "GET 2019-01-03 EUR\n"
     ]
    }
   ],
   "source": [
    "string1= \"GET 2019-01-03 EUR\"\n",
    "\n",
    "regex= r\"^(?P<command>\\w+)\\s(?P<date>\\d{4}-\\d{1,2}-\\d{1,2})\\s(?P<symbol>\\w+)\"\n",
    "\n",
    "matches= re.search(regex, string1)\n",
    "\n",
    "print(matches.group('command'), matches.group('date'), matches.group('symbol'))"
   ]
  },
  {
   "cell_type": "code",
   "execution_count": 10,
   "id": "9375766c",
   "metadata": {},
   "outputs": [],
   "source": [
    "matches"
   ]
  },
  {
   "cell_type": "code",
   "execution_count": 1,
   "id": "4a0bc24b",
   "metadata": {},
   "outputs": [
    {
     "name": "stdout",
     "output_type": "stream",
     "text": [
      "C:\\Users\\nir11152\\github\\advaced-python-course\\python_demos\n"
     ]
    },
    {
     "data": {
      "text/plain": [
       "'C:\\\\Users\\\\nir11152\\\\github\\\\advaced-python-course\\\\python_demos'"
      ]
     },
     "execution_count": 1,
     "metadata": {},
     "output_type": "execute_result"
    }
   ],
   "source": [
    "from datetime import date, datetime, timedelta\n",
    "import time\n",
    "%pwd\n",
    "%cd C:\\Users\\nir11152\\github\\advaced-python-course\\python_demos\n",
    "%pwd"
   ]
  },
  {
   "cell_type": "code",
   "execution_count": 13,
   "id": "12491bcd",
   "metadata": {},
   "outputs": [],
   "source": [
    "import csv\n",
    "from typing import Any\n",
    "import math"
   ]
  },
  {
   "cell_type": "code",
   "execution_count": 2,
   "id": "07feeb01",
   "metadata": {},
   "outputs": [],
   "source": [
    "rates_file_path = r'C:\\Users\\nir11152\\github\\advaced-python-course\\data\\eurofxref-hist.csv'"
   ]
  },
  {
   "cell_type": "code",
   "execution_count": 14,
   "id": "18a770c2",
   "metadata": {},
   "outputs": [],
   "source": [
    "rates_history: dict[str,dict[str, Any]] = {}\n",
    "with open(rates_file_path, encoding=\"UTF-8\") as rates_file:\n",
    "    rates_file_csv = csv.DictReader(rates_file)\n",
    "    for rate_row in rates_file_csv:\n",
    "        rate_entry = {\"EUR\": 1.0}\n",
    "        for rate_col_name, rate_col_value in rate_row.items():\n",
    "            if rate_col_name == \"Date\":\n",
    "                row_date = rate_col_value\n",
    "            else:\n",
    "                if len(rate_col_name) > 0:\n",
    "                    if rate_col_value == \"N/A\":\n",
    "                        rate_entry[rate_col_name] = math.nan\n",
    "                    else:\n",
    "                        rate_entry[rate_col_name] = float(rate_col_value)\n",
    "        rates_history[row_date] = rate_entry"
   ]
  },
  {
   "cell_type": "code",
   "execution_count": 18,
   "id": "321f4733",
   "metadata": {},
   "outputs": [
    {
     "name": "stdout",
     "output_type": "stream",
     "text": [
      "False\n"
     ]
    }
   ],
   "source": [
    "d = {'f':1}\n",
    "if 'k' in d:\n",
    "    print(True)\n",
    "else:\n",
    "    print(False)"
   ]
  },
  {
   "cell_type": "code",
   "execution_count": 1,
   "id": "ad1fc70a",
   "metadata": {},
   "outputs": [],
   "source": [
    "import requests"
   ]
  },
  {
   "cell_type": "code",
   "execution_count": 2,
   "id": "0ab7276e",
   "metadata": {},
   "outputs": [],
   "source": [
    "startDate = input(\"Enter start date:\")"
   ]
  },
  {
   "cell_type": "code",
   "execution_count": 3,
   "id": "226b7aa2",
   "metadata": {},
   "outputs": [],
   "source": [
    "baseUrl = \"http://127.0.0.1:5000/api/\"\n",
    "dateUrl = baseUrl + '2021-04-08'\n",
    "payload = {'base': 'INR', 'symbols': 'USD,EUR'}\n",
    "r = requests.get(dateUrl, params=payload)"
   ]
  },
  {
   "cell_type": "code",
   "execution_count": 6,
   "id": "59b2cd61",
   "metadata": {},
   "outputs": [
    {
     "data": {
      "text/plain": [
       "'b\\'{\"base\":\"INR\",\"date\":\"2021-04-08\",\"rates\":{\"EUR\":0.011288146881367221,\"USD\":0.013402416792247301}}\\\\n\\''"
      ]
     },
     "execution_count": 6,
     "metadata": {},
     "output_type": "execute_result"
    }
   ],
   "source": [
    "str(r.content)"
   ]
  },
  {
   "cell_type": "code",
   "execution_count": 7,
   "id": "3ac6af45",
   "metadata": {},
   "outputs": [],
   "source": [
    "from datetime import datetime, timedelta"
   ]
  },
  {
   "cell_type": "code",
   "execution_count": 8,
   "id": "aa5a884f",
   "metadata": {},
   "outputs": [],
   "source": [
    "startDate = datetime.strptime('1/2/2021', \"%m/%d/%Y\").date()"
   ]
  },
  {
   "cell_type": "code",
   "execution_count": 10,
   "id": "0dd31f3c",
   "metadata": {},
   "outputs": [
    {
     "data": {
      "text/plain": [
       "'2021-01-02'"
      ]
     },
     "execution_count": 10,
     "metadata": {},
     "output_type": "execute_result"
    }
   ],
   "source": [
    "startDate.strftime(\"%Y-%m-%d\")"
   ]
  },
  {
   "cell_type": "code",
   "execution_count": 12,
   "id": "a7465fef",
   "metadata": {},
   "outputs": [
    {
     "data": {
      "text/plain": [
       "datetime.date(2021, 1, 22)"
      ]
     },
     "execution_count": 12,
     "metadata": {},
     "output_type": "execute_result"
    }
   ],
   "source": [
    "startDate + timedelta(20)"
   ]
  },
  {
   "cell_type": "code",
   "execution_count": null,
   "id": "6fb260db",
   "metadata": {},
   "outputs": [],
   "source": []
  }
 ],
 "metadata": {
  "kernelspec": {
   "display_name": "Python 3 (ipykernel)",
   "language": "python",
   "name": "python3"
  },
  "language_info": {
   "codemirror_mode": {
    "name": "ipython",
    "version": 3
   },
   "file_extension": ".py",
   "mimetype": "text/x-python",
   "name": "python",
   "nbconvert_exporter": "python",
   "pygments_lexer": "ipython3",
   "version": "3.10.2"
  }
 },
 "nbformat": 4,
 "nbformat_minor": 5
}
