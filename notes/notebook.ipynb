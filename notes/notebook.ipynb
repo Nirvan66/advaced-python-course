{
 "cells": [
  {
   "cell_type": "code",
   "execution_count": 1,
   "id": "4a0bc24b",
   "metadata": {},
   "outputs": [
    {
     "name": "stdout",
     "output_type": "stream",
     "text": [
      "C:\\Users\\nir11152\\github\\advaced-python-course\\python_demos\n"
     ]
    },
    {
     "data": {
      "text/plain": [
       "'C:\\\\Users\\\\nir11152\\\\github\\\\advaced-python-course\\\\python_demos'"
      ]
     },
     "execution_count": 1,
     "metadata": {},
     "output_type": "execute_result"
    }
   ],
   "source": [
    "from datetime import date, datetime, timedelta\n",
    "import time\n",
    "%pwd\n",
    "%cd C:\\Users\\nir11152\\github\\advaced-python-course\\python_demos\n",
    "%pwd"
   ]
  },
  {
   "cell_type": "code",
   "execution_count": 13,
   "id": "12491bcd",
   "metadata": {},
   "outputs": [],
   "source": [
    "import csv\n",
    "from typing import Any\n",
    "import math"
   ]
  },
  {
   "cell_type": "code",
   "execution_count": 2,
   "id": "07feeb01",
   "metadata": {},
   "outputs": [],
   "source": [
    "rates_file_path = r'C:\\Users\\nir11152\\github\\advaced-python-course\\data\\eurofxref-hist.csv'"
   ]
  },
  {
   "cell_type": "code",
   "execution_count": 14,
   "id": "18a770c2",
   "metadata": {},
   "outputs": [],
   "source": [
    "rates_history: dict[str,dict[str, Any]] = {}\n",
    "with open(rates_file_path, encoding=\"UTF-8\") as rates_file:\n",
    "    rates_file_csv = csv.DictReader(rates_file)\n",
    "    for rate_row in rates_file_csv:\n",
    "        rate_entry = {\"EUR\": 1.0}\n",
    "        for rate_col_name, rate_col_value in rate_row.items():\n",
    "            if rate_col_name == \"Date\":\n",
    "                row_date = rate_col_value\n",
    "            else:\n",
    "                if len(rate_col_name) > 0:\n",
    "                    if rate_col_value == \"N/A\":\n",
    "                        rate_entry[rate_col_name] = math.nan\n",
    "                    else:\n",
    "                        rate_entry[rate_col_name] = float(rate_col_value)\n",
    "        rates_history[row_date] = rate_entry"
   ]
  },
  {
   "cell_type": "code",
   "execution_count": 18,
   "id": "321f4733",
   "metadata": {},
   "outputs": [
    {
     "name": "stdout",
     "output_type": "stream",
     "text": [
      "False\n"
     ]
    }
   ],
   "source": [
    "d = {'f':1}\n",
    "if 'k' in d:\n",
    "    print(True)\n",
    "else:\n",
    "    print(False)"
   ]
  }
 ],
 "metadata": {
  "kernelspec": {
   "display_name": "Python 3 (ipykernel)",
   "language": "python",
   "name": "python3"
  },
  "language_info": {
   "codemirror_mode": {
    "name": "ipython",
    "version": 3
   },
   "file_extension": ".py",
   "mimetype": "text/x-python",
   "name": "python",
   "nbconvert_exporter": "python",
   "pygments_lexer": "ipython3",
   "version": "3.10.2"
  }
 },
 "nbformat": 4,
 "nbformat_minor": 5
}
